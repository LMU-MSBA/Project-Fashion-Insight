{
 "cells": [
  {
   "cell_type": "code",
   "execution_count": 1,
   "id": "28aea778",
   "metadata": {},
   "outputs": [
    {
     "name": "stdout",
     "output_type": "stream",
     "text": [
      "Linear Regression RMSE: 1.1246811707457667\n",
      "Linear Regression R^2: -0.012156445499727164\n",
      "Random Forest RMSE: 1.1520881727196874\n",
      "Random Forest R^2: -0.06208734185913678\n",
      "Gradient Boosting RMSE: 1.1224698943190292\n",
      "Gradient Boosting R^2: -0.008180283215206474\n"
     ]
    }
   ],
   "source": [
    "import pandas as pd\n",
    "import numpy as np\n",
    "from sklearn.model_selection import train_test_split\n",
    "from sklearn.linear_model import LinearRegression\n",
    "from sklearn.ensemble import RandomForestRegressor, GradientBoostingRegressor\n",
    "from sklearn.metrics import mean_squared_error, r2_score\n",
    "\n",
    "# Load the data\n",
    "data = pd.read_csv('Fashion_Retail_Sales_Clean.csv')\n",
    "\n",
    "# Preprocessing\n",
    "data['Date Purchase'] = pd.to_datetime(data['Date Purchase'])\n",
    "data_encoded = pd.get_dummies(data, columns=['Item Purchased'], drop_first=True)\n",
    "data_encoded['Payment Method'] = data_encoded['Payment Method'].apply(lambda x: 1 if x == 'Credit Card' else 0)\n",
    "data_encoded['Year'] = data_encoded['Date Purchase'].dt.year\n",
    "data_encoded['Month'] = data_encoded['Date Purchase'].dt.month\n",
    "data_encoded['Day'] = data_encoded['Date Purchase'].dt.day\n",
    "data_encoded = data_encoded.drop('Date Purchase', axis=1)\n",
    "\n",
    "# Split data into features and target\n",
    "X = data_encoded.drop('Review Rating', axis=1)\n",
    "y = data_encoded['Review Rating']\n",
    "\n",
    "# Splitting the data into training and testing sets\n",
    "X_train, X_test, y_train, y_test = train_test_split(X, y, test_size=0.2, random_state=42)\n",
    "\n",
    "# Model initialization\n",
    "linear_model = LinearRegression()\n",
    "rf_model = RandomForestRegressor(random_state=42)\n",
    "gb_model = GradientBoostingRegressor(random_state=42)\n",
    "\n",
    "# Training the models\n",
    "linear_model.fit(X_train, y_train)\n",
    "rf_model.fit(X_train, y_train)\n",
    "gb_model.fit(X_train, y_train)\n",
    "\n",
    "# Predictions\n",
    "linear_preds = linear_model.predict(X_test)\n",
    "rf_preds = rf_model.predict(X_test)\n",
    "gb_preds = gb_model.predict(X_test)\n",
    "\n",
    "# Evaluation\n",
    "linear_rmse = mean_squared_error(y_test, linear_preds, squared=False)\n",
    "rf_rmse = mean_squared_error(y_test, rf_preds, squared=False)\n",
    "gb_rmse = mean_squared_error(y_test, gb_preds, squared=False)\n",
    "\n",
    "linear_r2 = r2_score(y_test, linear_preds)\n",
    "rf_r2 = r2_score(y_test, rf_preds)\n",
    "gb_r2 = r2_score(y_test, gb_preds)\n",
    "\n",
    "print(\"Linear Regression RMSE:\", linear_rmse)\n",
    "print(\"Linear Regression R^2:\", linear_r2)\n",
    "print(\"Random Forest RMSE:\", rf_rmse)\n",
    "print(\"Random Forest R^2:\", rf_r2)\n",
    "print(\"Gradient Boosting RMSE:\", gb_rmse)\n",
    "print(\"Gradient Boosting R^2:\", gb_r2)\n",
    "\n",
    "\n"
   ]
  },
  {
   "cell_type": "code",
   "execution_count": null,
   "id": "87878552",
   "metadata": {},
   "outputs": [],
   "source": []
  }
 ],
 "metadata": {
  "kernelspec": {
   "display_name": "Python 3 (ipykernel)",
   "language": "python",
   "name": "python3"
  },
  "language_info": {
   "codemirror_mode": {
    "name": "ipython",
    "version": 3
   },
   "file_extension": ".py",
   "mimetype": "text/x-python",
   "name": "python",
   "nbconvert_exporter": "python",
   "pygments_lexer": "ipython3",
   "version": "3.9.13"
  }
 },
 "nbformat": 4,
 "nbformat_minor": 5
}
