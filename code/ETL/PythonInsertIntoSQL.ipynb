{
 "cells": [
  {
   "cell_type": "code",
   "execution_count": null,
   "id": "85f58372",
   "metadata": {},
   "outputs": [],
   "source": [
    "pip install pandas sqlalchemy pymysql"
   ]
  },
  {
   "cell_type": "code",
   "execution_count": 1,
   "id": "e6f0c1f3",
   "metadata": {},
   "outputs": [],
   "source": [
    "import pandas as pd\n",
    "from sqlalchemy import create_engine\n",
    "from sqlalchemy.exc import SQLAlchemyError"
   ]
  },
  {
   "cell_type": "code",
   "execution_count": 7,
   "id": "06a614c0",
   "metadata": {},
   "outputs": [
    {
     "name": "stdout",
     "output_type": "stream",
     "text": [
      "Successfully connected to the database!\n"
     ]
    }
   ],
   "source": [
    "from sqlalchemy import create_engine\n",
    "\n",
    "# Correctly formatted database connection details\n",
    "DATABASE_TYPE = 'mysql'\n",
    "DBAPI = 'mysqlconnector'  # Assuming you're using mysqlconnector\n",
    "HOST = 'fashionretail.c3q4cw8i0vbc.us-east-2.rds.amazonaws.com'\n",
    "USER = 'admin'\n",
    "PASSWORD = 'bsan-6080-project'\n",
    "DATABASE = 'fashion_retail_sales'\n",
    "\n",
    "# Correctly create the DATABASE_URL\n",
    "DATABASE_URL = f\"{DATABASE_TYPE}+{DBAPI}://{USER}:{PASSWORD}@{HOST}/{DATABASE}\"\n",
    "\n",
    "# Create the SQLAlchemy engine\n",
    "engine = create_engine(DATABASE_URL, echo=False)\n",
    "\n",
    "# Test the connection\n",
    "try:\n",
    "    with engine.connect() as conn:\n",
    "        print(\"Successfully connected to the database!\")\n",
    "except Exception as e:\n",
    "    print(f\"An error occurred: {e}\")\n"
   ]
  },
  {
   "cell_type": "code",
   "execution_count": 9,
   "id": "ace81f48",
   "metadata": {},
   "outputs": [],
   "source": [
    "create_customers_table_sql = \"\"\"\n",
    "CREATE TABLE IF NOT EXISTS Customers (\n",
    "    CustomerID INT AUTO_INCREMENT PRIMARY KEY,\n",
    "    CustomerReferenceID INT UNIQUE NOT NULL\n",
    ");\n",
    "\"\"\""
   ]
  },
  {
   "cell_type": "code",
   "execution_count": 8,
   "id": "0d1ddeff",
   "metadata": {},
   "outputs": [],
   "source": [
    "\n",
    "create_purchases_table_sql = \"\"\"\n",
    "CREATE TABLE IF NOT EXISTS Purchases (\n",
    "    PurchaseID INT AUTO_INCREMENT PRIMARY KEY,\n",
    "    CustomerReferenceID INT NOT NULL,\n",
    "    ItemPurchased VARCHAR(255),\n",
    "    PurchaseAmountUSD DECIMAL(10, 2),\n",
    "    DatePurchase DATE,\n",
    "    ReviewRating DECIMAL(3, 1),\n",
    "    PaymentMethod VARCHAR(50),\n",
    "    FOREIGN KEY (CustomerReferenceID) REFERENCES Customers(CustomerReferenceID)\n",
    ");\n",
    "\"\"\""
   ]
  },
  {
   "cell_type": "code",
   "execution_count": 10,
   "id": "c06ec080",
   "metadata": {},
   "outputs": [],
   "source": [
    "with engine.begin() as conn:\n",
    "    conn.execute(create_customers_table_sql)\n",
    "    conn.execute(create_purchases_table_sql)"
   ]
  },
  {
   "cell_type": "code",
   "execution_count": 11,
   "id": "029c290b",
   "metadata": {},
   "outputs": [],
   "source": [
    "csv_file_path = 'Fashion_Retail_Sales_Clean.csv'  # Update this path\n",
    "df = pd.read_csv(csv_file_path)"
   ]
  },
  {
   "cell_type": "code",
   "execution_count": 12,
   "id": "3b423adb",
   "metadata": {},
   "outputs": [
    {
     "data": {
      "text/plain": [
       "-1"
      ]
     },
     "execution_count": 12,
     "metadata": {},
     "output_type": "execute_result"
    }
   ],
   "source": [
    "customers_df = df[['Customer Reference ID']].drop_duplicates().rename(columns={'Customer Reference ID': 'CustomerReferenceID'})\n",
    "customers_df.to_sql('Customers', con=engine, if_exists='append', index=False, method='multi')"
   ]
  },
  {
   "cell_type": "code",
   "execution_count": 13,
   "id": "733dbf26",
   "metadata": {},
   "outputs": [],
   "source": [
    "purchases_df = df.drop(columns=['Unnamed: 0']).rename(columns={\n",
    "    'Customer Reference ID': 'CustomerReferenceID',\n",
    "    'Item Purchased': 'ItemPurchased',\n",
    "    'Purchase Amount (USD)': 'PurchaseAmountUSD',\n",
    "    'Date Purchase': 'DatePurchase',\n",
    "    'Review Rating': 'ReviewRating',\n",
    "    'Payment Method': 'PaymentMethod'\n",
    "})"
   ]
  },
  {
   "cell_type": "code",
   "execution_count": 14,
   "id": "971a03a9",
   "metadata": {},
   "outputs": [
    {
     "name": "stdout",
     "output_type": "stream",
     "text": [
      "Data insertion complete.\n"
     ]
    }
   ],
   "source": [
    "purchases_df.to_sql('Purchases', con=engine, if_exists='append', index=False, method='multi')\n",
    "\n",
    "print(\"Data insertion complete.\")"
   ]
  },
  {
   "cell_type": "code",
   "execution_count": null,
   "id": "5834942d",
   "metadata": {},
   "outputs": [],
   "source": []
  }
 ],
 "metadata": {
  "kernelspec": {
   "display_name": "Python 3 (ipykernel)",
   "language": "python",
   "name": "python3"
  },
  "language_info": {
   "codemirror_mode": {
    "name": "ipython",
    "version": 3
   },
   "file_extension": ".py",
   "mimetype": "text/x-python",
   "name": "python",
   "nbconvert_exporter": "python",
   "pygments_lexer": "ipython3",
   "version": "3.9.13"
  }
 },
 "nbformat": 4,
 "nbformat_minor": 5
}
